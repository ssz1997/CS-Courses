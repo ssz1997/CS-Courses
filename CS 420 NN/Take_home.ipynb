{
 "cells": [
  {
   "cell_type": "code",
   "execution_count": 2,
   "metadata": {},
   "outputs": [],
   "source": [
    "import random\n",
    "import numpy as np\n",
    "import matplotlib.pyplot as plt\n",
    "import math"
   ]
  },
  {
   "cell_type": "markdown",
   "metadata": {},
   "source": [
    "# AML Pr 1.4"
   ]
  },
  {
   "cell_type": "code",
   "execution_count": 77,
   "metadata": {},
   "outputs": [
    {
     "name": "stdout",
     "output_type": "stream",
     "text": [
      "target function is 3.3230240013142236 x_1 +  2.889290619064494 x_2 +  4.385678954207153 = 0\n"
     ]
    },
    {
     "data": {
      "text/plain": [
       "Text(0,0.5,'x2')"
      ]
     },
     "execution_count": 77,
     "metadata": {},
     "output_type": "execute_result"
    },
    {
     "data": {
      "image/png": "[encoded data removed]",
      "text/plain": [
       "<matplotlib.figure.Figure at 0x12645b5f8>"
      ]
     },
     "metadata": {},
     "output_type": "display_data"
    }
   ],
   "source": [
    "# (a)\n",
    "# randomly generate target function\n",
    "random.seed(2019)\n",
    "w1 = random.uniform(-5, 5)\n",
    "w2 = random.uniform(-5, 5)\n",
    "w0 = random.uniform(-5, 5)\n",
    "print (\"target function is\", w1, \"x_1 + \", w2, \"x_2 + \", w0, \"= 0\")\n",
    "w = np.asarray([w0, w1, w2])\n",
    "x = np.linspace(0, 12)\n",
    "y_target = -w1/w2*x - w0/w2\n",
    "w_target = w\n",
    "\n",
    "# Generate data set of size 20\n",
    "random.seed(0)\n",
    "data_set = []\n",
    "for i in range(20):\n",
    "    x1 = random.uniform(-20, 20)\n",
    "    x2 = random.uniform(-20, 20)\n",
    "    x = np.asarray([1, x1, x2])\n",
    "    y = np.dot(w, x)/abs(np.dot(w, x))\n",
    "    if y > 0:\n",
    "        data_set.append([x, 1])\n",
    "        plt.plot(x1, x2, marker='o', color='black', markersize=6)\n",
    "    elif y < 0:\n",
    "        data_set.append([x, -1])\n",
    "        plt.plot(x1, x2, marker='+', color='black', markersize=6)\n",
    "    else:\n",
    "        data_set.append([x, 0])\n",
    "x = np.linspace(-22, 22)\n",
    "y_target = -w1/w2*x - w0/w2\n",
    "plt.plot(x,y_target)\n",
    "plt.xlabel('x1', fontsize=12)\n",
    "plt.ylabel('x2', fontsize=12)"
   ]
  },
  {
   "cell_type": "code",
   "execution_count": 78,
   "metadata": {},
   "outputs": [
    {
     "name": "stdout",
     "output_type": "stream",
     "text": [
      "It takes 17 iterations to converge\n",
      "final hypothesis function is 20.606372027444483 x_1 +  30.266557583590675 x_2 +  13.002285638628857 = 0\n"
     ]
    },
    {
     "data": {
      "text/plain": [
       "<matplotlib.legend.Legend at 0x126e41c88>"
      ]
     },
     "execution_count": 78,
     "metadata": {},
     "output_type": "execute_result"
    },
    {
     "data": {
      "image/png": "[encoded data removed]",
      "text/plain": [
       "<matplotlib.figure.Figure at 0x126d5a8d0>"
      ]
     },
     "metadata": {},
     "output_type": "display_data"
    }
   ],
   "source": [
    "# (b)\n",
    "# Initialize w randomly\n",
    "w0 = random.uniform(-1, 1)\n",
    "w1 = random.uniform(-1, 1)\n",
    "w2 = random.uniform(-1, 1)\n",
    "w = np.array([w0, w1, w2])\n",
    "\n",
    "# Start perceptron Iteration\n",
    "stop = False\n",
    "counter = 0\n",
    "while not stop:\n",
    "    stop = True\n",
    "    counter += 1\n",
    "    for data in data_set:\n",
    "        x = data[0]\n",
    "        y_predict = int(np.dot(x, w)/abs(np.dot(x, w)))\n",
    "        if y_predict != data[1]:                # update w\n",
    "            w += data[1] * x\n",
    "            stop = False\n",
    "            break\n",
    "\n",
    "print(\"It takes \" + str(counter) + \" iterations to converge\")\n",
    "print (\"final hypothesis function is\", w[1], \"x_1 + \", w[2], \"x_2 + \", w[0], \"= 0\")\n",
    "# plot the final PLA\n",
    "for data in data_set:\n",
    "    x1 = data[0][1]\n",
    "    x2 = data[0][2]\n",
    "    x  = [x1, x2]\n",
    "    y = data[1]\n",
    "    if y > 0:\n",
    "        plt.plot(x1, x2, marker='o', color='black', markersize=6)\n",
    "    elif y < 0:\n",
    "        plt.plot(x1, x2, marker='+', color='black', markersize=6)\n",
    "        \n",
    "x = np.linspace(-22, 22)\n",
    "y_predict = -w[1]/w[2]*x - w[0]/w[2]\n",
    "y_target = -w_target[1]/w_target[2]*x - w_target[0]/w_target[2]\n",
    "plt.plot(x, y_target, color = \"red\", label = 'target')\n",
    "plt.plot(x, y_predict, color = \"blue\", label = 'predict')\n",
    "plt.legend()"
   ]
  },
  {
   "cell_type": "markdown",
   "metadata": {},
   "source": [
    "We can see from the figure that g can separate the data correctly, but a little bit far from the target funciton. The weights are not very closed in numerical value though."
   ]
  },
  {
   "cell_type": "code",
   "execution_count": 79,
   "metadata": {},
   "outputs": [
    {
     "name": "stdout",
     "output_type": "stream",
     "text": [
      "target function is -2.5608912311286804 x_1 +  -1.7479563725260991 x_2 +  3.7047123210865465 = 0\n",
      "It takes 111 iterations to converge\n",
      "final hypothesis function is -48.88835683405945 x_1 +  -39.22247425933101 x_2 +  16.623257417015758 = 0\n"
     ]
    },
    {
     "data": {
      "text/plain": [
       "<matplotlib.legend.Legend at 0x126f73ef0>"
      ]
     },
     "execution_count": 79,
     "metadata": {},
     "output_type": "execute_result"
    },
    {
     "data": {
      "image/png": "[encoded data removed]",
      "text/plain": [
       "<matplotlib.figure.Figure at 0x126ead6a0>"
      ]
     },
     "metadata": {},
     "output_type": "display_data"
    }
   ],
   "source": [
    "# (c)\n",
    "w1 = random.uniform(-5, 5)\n",
    "w2 = random.uniform(-5, 5)\n",
    "w0 = random.uniform(-5, 5)\n",
    "print (\"target function is\", w1, \"x_1 + \", w2, \"x_2 + \", w0, \"= 0\")\n",
    "w = np.asarray([w0, w1, w2])\n",
    "w_target = w\n",
    "data_set = []\n",
    "for i in range(20):\n",
    "    x1 = random.uniform(-20, 20)\n",
    "    x2 = random.uniform(-20, 20)\n",
    "    x = np.asarray([1, x1, x2])\n",
    "    y = np.dot(w, x)/abs(np.dot(w, x))\n",
    "    if y > 0:\n",
    "        data_set.append([x, 1])\n",
    "        plt.plot(x1, x2, marker='o', color='black', markersize=6)\n",
    "    elif y < 0:\n",
    "        data_set.append([x, -1])\n",
    "        plt.plot(x1, x2, marker='+', color='black', markersize=6)\n",
    "    else:\n",
    "        data_set.append([x, 0])\n",
    "\n",
    "\n",
    "\n",
    "# Initialize w randomly\n",
    "w0 = random.uniform(-1, 1)\n",
    "w1 = random.uniform(-1, 1)\n",
    "w2 = random.uniform(-1, 1)\n",
    "w_app = np.array([w0, w1, w2])\n",
    "\n",
    "# Start perceptron Iteration\n",
    "stop = False\n",
    "counter = 0\n",
    "while not stop:\n",
    "    stop = True\n",
    "    counter += 1\n",
    "    for data in data_set:\n",
    "        x = data[0]\n",
    "        y_predict = int(np.dot(x, w_app)/abs(np.dot(x, w_app)))\n",
    "        if y_predict != data[1]:                # update w\n",
    "            w_app += data[1] * x\n",
    "            stop = False\n",
    "            break\n",
    "\n",
    "print(\"It takes \" + str(counter) + \" iterations to converge\")\n",
    "print (\"final hypothesis function is\", w_app[1], \"x_1 + \", w_app[2], \"x_2 + \", w_app[0], \"= 0\")\n",
    "\n",
    "# plot the final PLA\n",
    "for data in data_set:\n",
    "    x1 = data[0][1]\n",
    "    x2 = data[0][2]\n",
    "    x  = [x1, x2]\n",
    "    y = data[1]\n",
    "    if y > 0:\n",
    "        plt.plot(x1, x2, marker='o', color='black', markersize=6)\n",
    "    elif y < 0:\n",
    "        plt.plot(x1, x2, marker='+', color='black', markersize=6)\n",
    "        \n",
    "x = np.linspace(-22, 22)\n",
    "y_target = -w_target[1]/w_target[2]*x - w_target[0]/w_target[2]\n",
    "y_predict = -w_app[1]/w_app[2]*x - w_app[0]/w_app[2]\n",
    "plt.plot(x, y_target, color = \"red\", label = 'target')\n",
    "plt.plot(x, y_predict, color = \"blue\", label = 'predict')\n",
    "plt.legend()\n"
   ]
  },
  {
   "cell_type": "markdown",
   "metadata": {},
   "source": [
    "The convergence takes longer than the first dataset. The slope and intersection are off a bit. The weights again change a lot."
   ]
  },
  {
   "cell_type": "code",
   "execution_count": 83,
   "metadata": {},
   "outputs": [
    {
     "name": "stdout",
     "output_type": "stream",
     "text": [
      "target function is 3.774574539285279 x_1 +  -1.4692891827648635 x_2 +  -0.417056750212609 = 0\n",
      "It takes 119 iterations to converge\n",
      "final hypothesis function is 141.58148684196857 x_1 +  -52.64735491885728 x_2 +  6.464869688445353 = 0\n"
     ]
    },
    {
     "data": {
      "text/plain": [
       "<matplotlib.legend.Legend at 0x127ad04a8>"
      ]
     },
     "execution_count": 83,
     "metadata": {},
     "output_type": "execute_result"
    },
    {
     "data": {
      "image/png": "[encoded data removed]",
      "text/plain": [
       "<matplotlib.figure.Figure at 0x12758a208>"
      ]
     },
     "metadata": {},
     "output_type": "display_data"
    }
   ],
   "source": [
    "# (d)\n",
    "w1 = random.uniform(-5, 5)\n",
    "w2 = random.uniform(-5, 5)\n",
    "w0 = random.uniform(-5, 5)\n",
    "print (\"target function is\", w1, \"x_1 + \", w2, \"x_2 + \", w0, \"= 0\")\n",
    "w = np.asarray([w0, w1, w2])\n",
    "w_target = w\n",
    "data_set = []\n",
    "for i in range(100):\n",
    "    x1 = random.uniform(-20, 20)\n",
    "    x2 = random.uniform(-20, 20)\n",
    "    x = np.asarray([1, x1, x2])\n",
    "    y = np.dot(w, x)/abs(np.dot(w, x))\n",
    "    if y > 0:\n",
    "        data_set.append([x, 1])\n",
    "        plt.plot(x1, x2, marker='o', color='black', markersize=6)\n",
    "    elif y < 0:\n",
    "        data_set.append([x, -1])\n",
    "        plt.plot(x1, x2, marker='+', color='black', markersize=6)\n",
    "    else:\n",
    "        data_set.append([x, 0])\n",
    "\n",
    "\n",
    "\n",
    "# Initialize w randomly\n",
    "w0 = random.uniform(-1, 1)\n",
    "w1 = random.uniform(-1, 1)\n",
    "w2 = random.uniform(-1, 1)\n",
    "w_app = np.array([w0, w1, w2])\n",
    "\n",
    "# Start perceptron Iteration\n",
    "stop = False\n",
    "counter = 0\n",
    "while not stop:\n",
    "    stop = True\n",
    "    counter += 1\n",
    "    for data in data_set:\n",
    "        x = data[0]\n",
    "        y_predict = int(np.dot(x, w_app)/abs(np.dot(x, w_app)))\n",
    "        if y_predict != data[1]:                # update w\n",
    "            w_app += data[1] * x\n",
    "            stop = False\n",
    "            break\n",
    "\n",
    "print(\"It takes \" + str(counter) + \" iterations to converge\")\n",
    "print (\"final hypothesis function is\", w_app[1], \"x_1 + \", w_app[2], \"x_2 + \", w_app[0], \"= 0\")\n",
    "\n",
    "# plot the final PLA\n",
    "for data in data_set:\n",
    "    x1 = data[0][1]\n",
    "    x2 = data[0][2]\n",
    "    x  = [x1, x2]\n",
    "    y = data[1]\n",
    "    if y > 0:\n",
    "        plt.plot(x1, x2, marker='o', color='black', markersize=6)\n",
    "    elif y < 0:\n",
    "        plt.plot(x1, x2, marker='+', color='black', markersize=6)\n",
    "        \n",
    "x = np.linspace(-22, 22)\n",
    "y_target = -w_target[1]/w_target[2]*x - w_target[0]/w_target[2]\n",
    "y_predict = -w_app[1]/w_app[2]*x - w_app[0]/w_app[2]\n",
    "plt.plot(x, y_target, color = \"red\", label = 'target')\n",
    "plt.plot(x, y_predict, color = \"blue\", label = 'predict')\n",
    "plt.legend()"
   ]
  },
  {
   "cell_type": "markdown",
   "metadata": {},
   "source": [
    "The hypothesis function is approximately same as the target function. The difference is smaller than 20 data points. The weights are tens times of the original weights. It takes 119 iterations to converge, which is longer than 20 data points."
   ]
  },
  {
   "cell_type": "code",
   "execution_count": 84,
   "metadata": {},
   "outputs": [
    {
     "name": "stdout",
     "output_type": "stream",
     "text": [
      "target function is 3.4013655653786383 x_1 +  3.2065852117742466 x_2 +  -2.5320573191375937 = 0\n",
      "It takes 3000 iterations to converge\n",
      "final hypothesis function is 554.41691190303 x_1 +  523.3130574328495 x_2 +  -390.4938332906713 = 0\n"
     ]
    },
    {
     "data": {
      "text/plain": [
       "<matplotlib.legend.Legend at 0x128327a58>"
      ]
     },
     "execution_count": 84,
     "metadata": {},
     "output_type": "execute_result"
    },
    {
     "data": {
      "image/png": "[encoded data removed]",
      "text/plain": [
       "<matplotlib.figure.Figure at 0x127518908>"
      ]
     },
     "metadata": {},
     "output_type": "display_data"
    }
   ],
   "source": [
    "# (e)\n",
    "w1 = random.uniform(-5, 5)\n",
    "w2 = random.uniform(-5, 5)\n",
    "w0 = random.uniform(-5, 5)\n",
    "print (\"target function is\", w1, \"x_1 + \", w2, \"x_2 + \", w0, \"= 0\")\n",
    "w = np.asarray([w0, w1, w2])\n",
    "w_target = w\n",
    "data_set = []\n",
    "for i in range(1000):\n",
    "    x1 = random.uniform(-20, 20)\n",
    "    x2 = random.uniform(-20, 20)\n",
    "    x = np.asarray([1, x1, x2])\n",
    "    y = np.dot(w, x)/abs(np.dot(w, x))\n",
    "    if y > 0:\n",
    "        data_set.append([x, 1])\n",
    "        plt.plot(x1, x2, marker='o', color='black', markersize=6)\n",
    "    elif y < 0:\n",
    "        data_set.append([x, -1])\n",
    "        plt.plot(x1, x2, marker='+', color='black', markersize=6)\n",
    "    else:\n",
    "        data_set.append([x, 0])\n",
    "\n",
    "\n",
    "\n",
    "# Initialize w randomly\n",
    "w0 = random.uniform(-1, 1)\n",
    "w1 = random.uniform(-1, 1)\n",
    "w2 = random.uniform(-1, 1)\n",
    "w_app = np.array([w0, w1, w2])\n",
    "\n",
    "# Start perceptron Iteration\n",
    "stop = False\n",
    "counter = 0\n",
    "while not stop:\n",
    "    stop = True\n",
    "    counter += 1\n",
    "    for data in data_set:\n",
    "        x = data[0]\n",
    "        y_predict = int(np.dot(x, w_app)/abs(np.dot(x, w_app)))\n",
    "        if y_predict != data[1]:                # update w\n",
    "            w_app += data[1] * x\n",
    "            stop = False\n",
    "            break\n",
    "\n",
    "print(\"It takes \" + str(counter) + \" iterations to converge\")\n",
    "print (\"final hypothesis function is\", w_app[1], \"x_1 + \", w_app[2], \"x_2 + \", w_app[0], \"= 0\")\n",
    "\n",
    "# plot the final PLA\n",
    "for data in data_set:\n",
    "    x1 = data[0][1]\n",
    "    x2 = data[0][2]\n",
    "    x  = [x1, x2]\n",
    "    y = data[1]\n",
    "    if y > 0:\n",
    "        plt.plot(x1, x2, marker='o', color='black', markersize=6)\n",
    "    elif y < 0:\n",
    "        plt.plot(x1, x2, marker='+', color='black', markersize=6)\n",
    "        \n",
    "x = np.linspace(-22, 22)\n",
    "y_target = -w_target[1]/w_target[2]*x - w_target[0]/w_target[2]\n",
    "y_predict = -w_app[1]/w_app[2]*x - w_app[0]/w_app[2]\n",
    "plt.plot(x, y_target, color = \"red\", label = 'target')\n",
    "plt.plot(x, y_predict, color = \"blue\", label = 'predict')\n",
    "plt.legend()"
   ]
  },
  {
   "cell_type": "markdown",
   "metadata": {},
   "source": [
    "The final hypothesis function is even more closed to target function, in contrast to 20 data points the two lines are kind of far away. The weights are tens times of the originals. Takes even more iterations to converge."
   ]
  },
  {
   "cell_type": "code",
   "execution_count": 96,
   "metadata": {},
   "outputs": [
    {
     "name": "stdout",
     "output_type": "stream",
     "text": [
      "target function is -3.55831857848103 x_1 +  3.268957584024893 x_2 +  -0.8446405101998389 x_3 +  -4.766659816833705 x_4 +  -4.269500516063788 x_5 +  2.165160034097241 x_6 + -0.8483207953111629 x_7 +  4.422533250835748 x_8 +  -2.218988552042944 x_9 +  1.957228728262419 x_10 +  4.575515406811441 = 0\n",
      "target function is -798.6081301571577 x_1 +  759.2484949921302 x_2 +  -192.0383323736038 x_3 +  -1081.8140047339314 x_4 +  -970.6637165448662 x_5 +  504.48382649725943 x_6 + -170.68248693106403 x_7 +  1002.3121957219497 x_8 +  -513.9243694982338 x_9 +  455.48587651888477 x_10 +  1010.4182310245508 = 0\n",
      "It takes 7381 iterations to converge\n"
     ]
    }
   ],
   "source": [
    "# (f)\n",
    "w0 = random.uniform(-5, 5)\n",
    "w1 = random.uniform(-5, 5)\n",
    "w2 = random.uniform(-5, 5)\n",
    "w3 = random.uniform(-5, 5)\n",
    "w4 = random.uniform(-5, 5)\n",
    "w5 = random.uniform(-5, 5)\n",
    "w6 = random.uniform(-5, 5)\n",
    "w7 = random.uniform(-5, 5)\n",
    "w8 = random.uniform(-5, 5)\n",
    "w9 = random.uniform(-5, 5)\n",
    "w10 = random.uniform(-5, 5)\n",
    "\n",
    "print (\"target function is\", w1, \"x_1 + \", w2, \"x_2 + \",w3, \"x_3 + \",w4, \"x_4 + \",w5, \"x_5 + \",w6, \"x_6 +\",w7, \"x_7 + \",w8, \"x_8 + \",w9, \"x_9 + \",w10, \"x_10 + \", w0, \"= 0\")\n",
    "w = np.asarray([w0, w1, w2, w3, w4, w5, w6, w7, w8, w9, w10])\n",
    "w_target = w\n",
    "data_set = []\n",
    "for i in range(1000):\n",
    "    x1 = random.uniform(-20, 20)\n",
    "    x2 = random.uniform(-20, 20)\n",
    "    x3 = random.uniform(-20, 20)\n",
    "    x4 = random.uniform(-20, 20)\n",
    "    x5 = random.uniform(-20, 20)\n",
    "    x6 = random.uniform(-20, 20)\n",
    "    x7 = random.uniform(-20, 20)\n",
    "    x8 = random.uniform(-20, 20)\n",
    "    x9 = random.uniform(-20, 20)\n",
    "    x10 = random.uniform(-20, 20)\n",
    "    x = np.asarray([1, x1, x2, x3, x4, x5, x6, x7, x8, x9, x10])\n",
    "    y = np.dot(w, x)/abs(np.dot(w, x))\n",
    "    if y > 0:\n",
    "        data_set.append([x, 1])\n",
    "    elif y < 0:\n",
    "        data_set.append([x, -1])\n",
    "    else:\n",
    "        data_set.append([x, 0])\n",
    "    \n",
    "# Initialize w randomly\n",
    "w0 = random.uniform(-1, 1)\n",
    "w1 = random.uniform(-1, 1)\n",
    "w2 = random.uniform(-1, 1)\n",
    "w3 = random.uniform(-1, 1)\n",
    "w4 = random.uniform(-1, 1)\n",
    "w5 = random.uniform(-1, 1)\n",
    "w6 = random.uniform(-1, 1)\n",
    "w7 = random.uniform(-1, 1)\n",
    "w8 = random.uniform(-1, 1)\n",
    "w9 = random.uniform(-1, 1)\n",
    "w10 = random.uniform(-1, 1)\n",
    "w_app = np.array([w0, w1, w2, w3, w4, w5, w6, w7, w8, w9, w10])\n",
    "\n",
    "# Start perceptron Iteration\n",
    "stop = False\n",
    "counter = 0\n",
    "while not stop:\n",
    "    stop = True\n",
    "    counter += 1\n",
    "    for data in data_set:\n",
    "        x = data[0]\n",
    "        y_predict = int(np.dot(x, w_app)/abs(np.dot(x, w_app)))\n",
    "        if y_predict != data[1]:                # update w\n",
    "            w_app += data[1] * x\n",
    "            stop = False\n",
    "            break\n",
    "\n",
    "\n",
    "print (\"target function is\", w_app[1], \"x_1 + \",  w_app[2], \"x_2 + \", w_app[3], \"x_3 + \", w_app[4], \"x_4 + \", w_app[5], \"x_5 + \", w_app[6], \"x_6 +\", w_app[7], \"x_7 + \", w_app[8], \"x_8 + \", w_app[9], \"x_9 + \", w_app[10], \"x_10 + \",  w_app[0], \"= 0\")\n",
    "print(\"It takes \" + str(counter) + \" iterations to converge\")\n"
   ]
  },
  {
   "cell_type": "code",
   "execution_count": 95,
   "metadata": {},
   "outputs": [
    {
     "data": {
      "text/plain": [
       "Text(0,0.5,'times')"
      ]
     },
     "execution_count": 95,
     "metadata": {},
     "output_type": "execute_result"
    },
    {
     "data": {
      "image/png": "[encoded data removed]",
      "text/plain": [
       "<matplotlib.figure.Figure at 0x1286b5a58>"
      ]
     },
     "metadata": {},
     "output_type": "display_data"
    }
   ],
   "source": [
    "# (g)\n",
    "counters = []\n",
    "for i in range(100):\n",
    "    w0 = random.uniform(-5, 5)\n",
    "    w1 = random.uniform(-5, 5)\n",
    "    w2 = random.uniform(-5, 5)\n",
    "    w3 = random.uniform(-5, 5)\n",
    "    w4 = random.uniform(-5, 5)\n",
    "    w5 = random.uniform(-5, 5)\n",
    "    w6 = random.uniform(-5, 5)\n",
    "    w7 = random.uniform(-5, 5)\n",
    "    w8 = random.uniform(-5, 5)\n",
    "    w9 = random.uniform(-5, 5)\n",
    "    w10 = random.uniform(-5, 5)\n",
    "\n",
    "    w = np.asarray([w0, w1, w2, w3, w4, w5, w6, w7, w8, w9, w10])\n",
    "    w_target = w\n",
    "    data_set = []\n",
    "    for i in range(1000):\n",
    "        x1 = random.uniform(-20, 20)\n",
    "        x2 = random.uniform(-20, 20)\n",
    "        x3 = random.uniform(-20, 20)\n",
    "        x4 = random.uniform(-20, 20)\n",
    "        x5 = random.uniform(-20, 20)\n",
    "        x6 = random.uniform(-20, 20)\n",
    "        x7 = random.uniform(-20, 20)\n",
    "        x8 = random.uniform(-20, 20)\n",
    "        x9 = random.uniform(-20, 20)\n",
    "        x10 = random.uniform(-20, 20)\n",
    "        x = np.asarray([1, x1, x2, x3, x4, x5, x6, x7, x8, x9, x10])\n",
    "        y = np.dot(w, x)/abs(np.dot(w, x))\n",
    "        if y > 0:\n",
    "            data_set.append([x, 1])\n",
    "        elif y < 0:\n",
    "            data_set.append([x, -1])\n",
    "        else:\n",
    "            data_set.append([x, 0])\n",
    "\n",
    "    # Initialize w randomly\n",
    "    w0 = random.uniform(-1, 1)\n",
    "    w1 = random.uniform(-1, 1)\n",
    "    w2 = random.uniform(-1, 1)\n",
    "    w3 = random.uniform(-1, 1)\n",
    "    w4 = random.uniform(-1, 1)\n",
    "    w5 = random.uniform(-1, 1)\n",
    "    w6 = random.uniform(-1, 1)\n",
    "    w7 = random.uniform(-1, 1)\n",
    "    w8 = random.uniform(-1, 1)\n",
    "    w9 = random.uniform(-1, 1)\n",
    "    w10 = random.uniform(-1, 1)\n",
    "    w_app = np.array([w0, w1, w2, w3, w4, w5, w6, w7, w8, w9, w10])\n",
    "\n",
    "    # Start perceptron Iteration\n",
    "    stop = False\n",
    "    counter = 0\n",
    "    while not stop:\n",
    "        stop = True\n",
    "        counter += 1\n",
    "        a = [j for j in range(len(data_set))]\n",
    "        while len(a) != 0:\n",
    "            t = random.choice(a)\n",
    "            a.remove(t)\n",
    "            data = data_set[t]\n",
    "            x = data[0]\n",
    "            y_predict = int(np.dot(x, w_app)/abs(np.dot(x, w_app)))\n",
    "            if y_predict != data[1]:                # update w\n",
    "                w_app += data[1] * x\n",
    "                stop = False\n",
    "                break\n",
    "        \n",
    "    counters.append(counter)\n",
    "    \n",
    "plt.hist(counters, bins=20)\n",
    "plt.xlabel('iterations', fontsize=12)\n",
    "plt.ylabel('times', fontsize=12)\n"
   ]
  },
  {
   "cell_type": "markdown",
   "metadata": {},
   "source": [
    "(h) As N increases, accuracy increases, and running time incrases, as shown by (b)(c)(d)(e), at least when d=2. As d increases, we are not sure about running time and accuracy, because the only experiment controlling N and increasing d is (e) and (f)(g), but (e) only runs once so its data is not representing anything. As both N and d increases, the running time increases and the accuracy is not sure because without visualizing it is hard to measure the accuracy when the data is eventually linearly separable. There is no function to derive because the number of experiments is far too less, and even with the same N and d, as (g) did, the running time, which indicated by the number of iterations, varied a lot. "
   ]
  },
  {
   "cell_type": "markdown",
   "metadata": {},
   "source": [
    "# AML Pr 1.5"
   ]
  },
  {
   "cell_type": "markdown",
   "metadata": {},
   "source": [
    "(a)"
   ]
  },
  {
   "cell_type": "code",
   "execution_count": 137,
   "metadata": {},
   "outputs": [
    {
     "name": "stdout",
     "output_type": "stream",
     "text": [
      "target function is 3.489829598867237 x_1 +  -0.9284541031765992 x_2 +  -2.0687389329785857 = 0\n",
      "final hypothesis function is inf x_1 +  inf x_2 +  -inf = 0\n",
      "It takes 1000 iterations to converge\n"
     ]
    },
    {
     "name": "stderr",
     "output_type": "stream",
     "text": [
      "/anaconda3/lib/python3.6/site-packages/ipykernel_launcher.py:58: RuntimeWarning: overflow encountered in double_scalars\n",
      "/anaconda3/lib/python3.6/site-packages/ipykernel_launcher.py:80: RuntimeWarning: invalid value encountered in double_scalars\n"
     ]
    },
    {
     "ename": "ValueError",
     "evalue": "cannot convert float NaN to integer",
     "output_type": "error",
     "traceback": [
      "\u001b[0;31m---------------------------------------------------------------------------\u001b[0m",
      "\u001b[0;31mValueError\u001b[0m                                Traceback (most recent call last)",
      "\u001b[0;32m<ipython-input-137-2a1010803e9f>\u001b[0m in \u001b[0;36m<module>\u001b[0;34m()\u001b[0m\n\u001b[1;32m     88\u001b[0m     \u001b[0mx\u001b[0m \u001b[0;34m=\u001b[0m \u001b[0mdata\u001b[0m\u001b[0;34m[\u001b[0m\u001b[0;36m0\u001b[0m\u001b[0;34m]\u001b[0m\u001b[0;34m\u001b[0m\u001b[0m\n\u001b[1;32m     89\u001b[0m     \u001b[0my\u001b[0m \u001b[0;34m=\u001b[0m \u001b[0mdata\u001b[0m\u001b[0;34m[\u001b[0m\u001b[0;36m1\u001b[0m\u001b[0;34m]\u001b[0m\u001b[0;34m\u001b[0m\u001b[0m\n\u001b[0;32m---> 90\u001b[0;31m     \u001b[0my_pred\u001b[0m \u001b[0;34m=\u001b[0m \u001b[0mint\u001b[0m\u001b[0;34m(\u001b[0m\u001b[0mnp\u001b[0m\u001b[0;34m.\u001b[0m\u001b[0mdot\u001b[0m\u001b[0;34m(\u001b[0m\u001b[0mx\u001b[0m\u001b[0;34m,\u001b[0m \u001b[0mw_app\u001b[0m\u001b[0;34m)\u001b[0m\u001b[0;34m/\u001b[0m\u001b[0mabs\u001b[0m\u001b[0;34m(\u001b[0m\u001b[0mnp\u001b[0m\u001b[0;34m.\u001b[0m\u001b[0mdot\u001b[0m\u001b[0;34m(\u001b[0m\u001b[0mx\u001b[0m\u001b[0;34m,\u001b[0m \u001b[0mw_app\u001b[0m\u001b[0;34m)\u001b[0m\u001b[0;34m)\u001b[0m\u001b[0;34m)\u001b[0m\u001b[0;34m\u001b[0m\u001b[0m\n\u001b[0m\u001b[1;32m     91\u001b[0m     \u001b[0;32mif\u001b[0m \u001b[0my\u001b[0m \u001b[0;34m!=\u001b[0m \u001b[0my_pred\u001b[0m\u001b[0;34m:\u001b[0m\u001b[0;34m\u001b[0m\u001b[0m\n\u001b[1;32m     92\u001b[0m         \u001b[0mcount\u001b[0m \u001b[0;34m+=\u001b[0m \u001b[0;36m1\u001b[0m\u001b[0;34m\u001b[0m\u001b[0m\n",
      "\u001b[0;31mValueError\u001b[0m: cannot convert float NaN to integer"
     ]
    },
    {
     "data": {
      "image/png": "[encoded data removed]",
      "text/plain": [
       "<matplotlib.figure.Figure at 0x12a267898>"
      ]
     },
     "metadata": {},
     "output_type": "display_data"
    }
   ],
   "source": [
    "# Generate the target function\n",
    "w1 = random.uniform(-5, 5)\n",
    "w2 = random.uniform(-5, 5)\n",
    "w0 = random.uniform(-5, 5)\n",
    "print (\"target function is\", w1, \"x_1 + \", w2, \"x_2 + \", w0, \"= 0\")\n",
    "w = np.asarray([w0, w1, w2])\n",
    "w_target = w\n",
    "\n",
    "# Generate the training data\n",
    "training_set = []\n",
    "for i in range(100):\n",
    "    x1 = random.uniform(-5, 5)\n",
    "    x2 = random.uniform(-5, 5)\n",
    "    x = np.asarray([1, x1, x2])\n",
    "    y = np.dot(w, x)/abs(np.dot(w, x))\n",
    "    if y > 0:\n",
    "        training_set.append([x, 1])\n",
    "    elif y < 0:\n",
    "        training_set.append([x, -1])\n",
    "    else:\n",
    "        training_set.append([x, 0])\n",
    "\n",
    "# Generate the test data\n",
    "test_set = []\n",
    "for i in range(10000):\n",
    "    x1 = random.uniform(-5, 5)\n",
    "    x2 = random.uniform(-5, 5)\n",
    "    x = np.asarray([1, x1, x2])\n",
    "    y = np.dot(w, x)/abs(np.dot(w, x))\n",
    "    if y > 0:\n",
    "        test_set.append([x, 1])\n",
    "    elif y < 0:\n",
    "        test_set.append([x, -1])\n",
    "    else:\n",
    "        test_set.append([x, 0])\n",
    "\n",
    "\n",
    "# Initialize w randomly\n",
    "w0 = random.uniform(-1, 1)\n",
    "w1 = random.uniform(-1, 1)\n",
    "w2 = random.uniform(-1, 1)\n",
    "w_app = np.array([w0, w1, w2])\n",
    "\n",
    "eta = 100\n",
    "# Start the revised perceptron Iteration\n",
    "stop = False\n",
    "counter = 0\n",
    "while not stop:\n",
    "    stop = True\n",
    "    if counter == 1000:   # Maximum 1000 iterations\n",
    "        break\n",
    "    for data in training_set:\n",
    "        x = data[0]\n",
    "        s = np.dot(x, w_app)\n",
    "        if data[1] * s <= 1:\n",
    "            # update w\n",
    "            w_app += eta * data[1] * s * x\n",
    "            stop = False\n",
    "            counter += 1\n",
    "            break\n",
    "    \n",
    "        \n",
    "print (\"final hypothesis function is\", w_app[1], \"x_1 + \", w_app[2], \"x_2 + \", w_app[0], \"= 0\")\n",
    "print(\"It takes \" + str(counter) + \" iterations to converge\")\n",
    "\n",
    "\n",
    "for data in training_set:\n",
    "    x1 = data[0][1]\n",
    "    x2 = data[0][2]\n",
    "    x  = [x1, x2]\n",
    "    y = data[1]\n",
    "    if y > 0:\n",
    "        plt.plot(x1, x2, marker='o', color='black', markersize=6)\n",
    "    elif y < 0:\n",
    "        plt.plot(x1, x2, marker='+', color='black', markersize=6)\n",
    "        \n",
    "x = np.linspace(-6, 6)\n",
    "y_target = -w_target[1]/w_target[2]*x - w_target[0]/w_target[2]\n",
    "y_predict = -w_app[1]/w_app[2]*x - w_app[0]/w_app[2]\n",
    "plt.plot(x, y_target, color = \"red\", label = 'target')\n",
    "plt.plot(x, y_predict, color = \"blue\", label = 'predict')\n",
    "plt.legend()\n",
    "\n",
    "# Test on test set\n",
    "count = 0\n",
    "for data in test_set:\n",
    "    x = data[0]\n",
    "    y = data[1]\n",
    "    y_pred = int(np.dot(x, w_app)/abs(np.dot(x, w_app)))\n",
    "    if y != y_pred:\n",
    "        count += 1\n",
    "print (\"In 10000 test test, there are \" + str(count) + \" points are incorrectly classified\")"
   ]
  },
  {
   "cell_type": "markdown",
   "metadata": {},
   "source": [
    "(b)"
   ]
  },
  {
   "cell_type": "code",
   "execution_count": 138,
   "metadata": {},
   "outputs": [
    {
     "name": "stdout",
     "output_type": "stream",
     "text": [
      "target function is -3.9085546070900925 x_1 +  3.0361014892487432 x_2 +  1.9715293973836108 = 0\n",
      "final hypothesis function is inf x_1 +  -inf x_2 +  -inf = 0\n",
      "It takes 1000 iterations to converge\n"
     ]
    },
    {
     "name": "stderr",
     "output_type": "stream",
     "text": [
      "/anaconda3/lib/python3.6/site-packages/ipykernel_launcher.py:59: RuntimeWarning: overflow encountered in multiply\n",
      "/anaconda3/lib/python3.6/site-packages/ipykernel_launcher.py:81: RuntimeWarning: invalid value encountered in double_scalars\n"
     ]
    },
    {
     "ename": "ValueError",
     "evalue": "cannot convert float NaN to integer",
     "output_type": "error",
     "traceback": [
      "\u001b[0;31m---------------------------------------------------------------------------\u001b[0m",
      "\u001b[0;31mValueError\u001b[0m                                Traceback (most recent call last)",
      "\u001b[0;32m<ipython-input-138-1522f54afbe9>\u001b[0m in \u001b[0;36m<module>\u001b[0;34m()\u001b[0m\n\u001b[1;32m     89\u001b[0m     \u001b[0mx\u001b[0m \u001b[0;34m=\u001b[0m \u001b[0mdata\u001b[0m\u001b[0;34m[\u001b[0m\u001b[0;36m0\u001b[0m\u001b[0;34m]\u001b[0m\u001b[0;34m\u001b[0m\u001b[0m\n\u001b[1;32m     90\u001b[0m     \u001b[0my\u001b[0m \u001b[0;34m=\u001b[0m \u001b[0mdata\u001b[0m\u001b[0;34m[\u001b[0m\u001b[0;36m1\u001b[0m\u001b[0;34m]\u001b[0m\u001b[0;34m\u001b[0m\u001b[0m\n\u001b[0;32m---> 91\u001b[0;31m     \u001b[0my_pred\u001b[0m \u001b[0;34m=\u001b[0m \u001b[0mint\u001b[0m\u001b[0;34m(\u001b[0m\u001b[0mnp\u001b[0m\u001b[0;34m.\u001b[0m\u001b[0mdot\u001b[0m\u001b[0;34m(\u001b[0m\u001b[0mx\u001b[0m\u001b[0;34m,\u001b[0m \u001b[0mw_app\u001b[0m\u001b[0;34m)\u001b[0m\u001b[0;34m/\u001b[0m\u001b[0mabs\u001b[0m\u001b[0;34m(\u001b[0m\u001b[0mnp\u001b[0m\u001b[0;34m.\u001b[0m\u001b[0mdot\u001b[0m\u001b[0;34m(\u001b[0m\u001b[0mx\u001b[0m\u001b[0;34m,\u001b[0m \u001b[0mw_app\u001b[0m\u001b[0;34m)\u001b[0m\u001b[0;34m)\u001b[0m\u001b[0;34m)\u001b[0m\u001b[0;34m\u001b[0m\u001b[0m\n\u001b[0m\u001b[1;32m     92\u001b[0m     \u001b[0;32mif\u001b[0m \u001b[0my\u001b[0m \u001b[0;34m!=\u001b[0m \u001b[0my_pred\u001b[0m\u001b[0;34m:\u001b[0m\u001b[0;34m\u001b[0m\u001b[0m\n\u001b[1;32m     93\u001b[0m         \u001b[0mcount\u001b[0m \u001b[0;34m+=\u001b[0m \u001b[0;36m1\u001b[0m\u001b[0;34m\u001b[0m\u001b[0m\n",
      "\u001b[0;31mValueError\u001b[0m: cannot convert float NaN to integer"
     ]
    },
    {
     "data": {
      "image/png": "[encoded data removed]",
      "text/plain": [
       "<matplotlib.figure.Figure at 0x12b240860>"
      ]
     },
     "metadata": {},
     "output_type": "display_data"
    }
   ],
   "source": [
    "# Generate the target function\n",
    "w1 = random.uniform(-5, 5)\n",
    "w2 = random.uniform(-5, 5)\n",
    "w0 = random.uniform(-5, 5)\n",
    "print (\"target function is\", w1, \"x_1 + \", w2, \"x_2 + \", w0, \"= 0\")\n",
    "w = np.asarray([w0, w1, w2])\n",
    "w_target = w\n",
    "\n",
    "# Generate the training data\n",
    "training_set = []\n",
    "for i in range(100):\n",
    "    x1 = random.uniform(-5, 5)\n",
    "    x2 = random.uniform(-5, 5)\n",
    "    x = np.asarray([1, x1, x2])\n",
    "    y = np.dot(w, x)/abs(np.dot(w, x))\n",
    "    if y > 0:\n",
    "        training_set.append([x, 1])\n",
    "    elif y < 0:\n",
    "        training_set.append([x, -1])\n",
    "    else:\n",
    "        training_set.append([x, 0])\n",
    "\n",
    "# Generate the test data\n",
    "test_set = []\n",
    "for i in range(10000):\n",
    "    x1 = random.uniform(-5, 5)\n",
    "    x2 = random.uniform(-5, 5)\n",
    "    x = np.asarray([1, x1, x2])\n",
    "    y = np.dot(w, x)/abs(np.dot(w, x))\n",
    "    if y > 0:\n",
    "        test_set.append([x, 1])\n",
    "    elif y < 0:\n",
    "        test_set.append([x, -1])\n",
    "    else:\n",
    "        test_set.append([x, 0])\n",
    "\n",
    "\n",
    "# Initialize w randomly\n",
    "w0 = random.uniform(-1, 1)\n",
    "w1 = random.uniform(-1, 1)\n",
    "w2 = random.uniform(-1, 1)\n",
    "w_app = np.array([w0, w1, w2])\n",
    "\n",
    "eta = 1\n",
    "# Start the revised perceptron Iteration\n",
    "stop = False\n",
    "counter = 0\n",
    "while not stop:\n",
    "    stop = True\n",
    "    if counter == 1000:   # Maximum 1000 iterations\n",
    "        break\n",
    "    for data in training_set:\n",
    "        x = data[0]\n",
    "        s = np.dot(x, w_app)\n",
    "        if data[1] * s <= 1:\n",
    "            # update w\n",
    "            w_app += eta * data[1] * s * x\n",
    "            stop = False\n",
    "            counter += 1\n",
    "            break\n",
    "    \n",
    "        \n",
    "print (\"final hypothesis function is\", w_app[1], \"x_1 + \", w_app[2], \"x_2 + \", w_app[0], \"= 0\")\n",
    "print(\"It takes \" + str(counter) + \" iterations to converge\")\n",
    "\n",
    "\n",
    "for data in training_set:\n",
    "    x1 = data[0][1]\n",
    "    x2 = data[0][2]\n",
    "    x  = [x1, x2]\n",
    "    y = data[1]\n",
    "    if y > 0:\n",
    "        plt.plot(x1, x2, marker='o', color='black', markersize=6)\n",
    "    elif y < 0:\n",
    "        plt.plot(x1, x2, marker='+', color='black', markersize=6)\n",
    "        \n",
    "x = np.linspace(-6, 6)\n",
    "y_target = -w_target[1]/w_target[2]*x - w_target[0]/w_target[2]\n",
    "y_predict = -w_app[1]/w_app[2]*x - w_app[0]/w_app[2]\n",
    "plt.plot(x, y_target, color = \"red\", label = 'target')\n",
    "plt.plot(x, y_predict, color = \"blue\", label = 'predict')\n",
    "plt.legend()\n",
    "\n",
    "# Test on test set\n",
    "count = 0\n",
    "for data in test_set:\n",
    "    x = data[0]\n",
    "    y = data[1]\n",
    "    y_pred = int(np.dot(x, w_app)/abs(np.dot(x, w_app)))\n",
    "    if y != y_pred:\n",
    "        count += 1\n",
    "print (\"In 10000 test test, there are \" + str(count) + \" points are incorrectly classified\")"
   ]
  },
  {
   "cell_type": "markdown",
   "metadata": {},
   "source": [
    "(c)"
   ]
  },
  {
   "cell_type": "code",
   "execution_count": 139,
   "metadata": {},
   "outputs": [
    {
     "name": "stdout",
     "output_type": "stream",
     "text": [
      "target function is -0.7004541881316371 x_1 +  -3.0263638817171943 x_2 +  -2.8534483397612345 = 0\n",
      "final hypothesis function is -0.3594045021497718 x_1 +  -0.5064537524729373 x_2 +  0.05367221472503108 = 0\n",
      "It takes 1000 iterations to converge\n",
      "In 10000 test test, there are 1439 points are incorrectly classified\n"
     ]
    },
    {
     "data": {
      "image/png": "[encoded data removed]",
      "text/plain": [
       "<matplotlib.figure.Figure at 0x12a46fbe0>"
      ]
     },
     "metadata": {},
     "output_type": "display_data"
    }
   ],
   "source": [
    "# Generate the target function\n",
    "w1 = random.uniform(-5, 5)\n",
    "w2 = random.uniform(-5, 5)\n",
    "w0 = random.uniform(-5, 5)\n",
    "print (\"target function is\", w1, \"x_1 + \", w2, \"x_2 + \", w0, \"= 0\")\n",
    "w = np.asarray([w0, w1, w2])\n",
    "w_target = w\n",
    "\n",
    "# Generate the training data\n",
    "training_set = []\n",
    "for i in range(100):\n",
    "    x1 = random.uniform(-5, 5)\n",
    "    x2 = random.uniform(-5, 5)\n",
    "    x = np.asarray([1, x1, x2])\n",
    "    y = np.dot(w, x)/abs(np.dot(w, x))\n",
    "    if y > 0:\n",
    "        training_set.append([x, 1])\n",
    "    elif y < 0:\n",
    "        training_set.append([x, -1])\n",
    "    else:\n",
    "        training_set.append([x, 0])\n",
    "\n",
    "# Generate the test data\n",
    "test_set = []\n",
    "for i in range(10000):\n",
    "    x1 = random.uniform(-5, 5)\n",
    "    x2 = random.uniform(-5, 5)\n",
    "    x = np.asarray([1, x1, x2])\n",
    "    y = np.dot(w, x)/abs(np.dot(w, x))\n",
    "    if y > 0:\n",
    "        test_set.append([x, 1])\n",
    "    elif y < 0:\n",
    "        test_set.append([x, -1])\n",
    "    else:\n",
    "        test_set.append([x, 0])\n",
    "\n",
    "\n",
    "# Initialize w randomly\n",
    "w0 = random.uniform(-1, 1)\n",
    "w1 = random.uniform(-1, 1)\n",
    "w2 = random.uniform(-1, 1)\n",
    "w_app = np.array([w0, w1, w2])\n",
    "\n",
    "eta = 0.01\n",
    "# Start the revised perceptron Iteration\n",
    "stop = False\n",
    "counter = 0\n",
    "while not stop:\n",
    "    stop = True\n",
    "    if counter == 1000:   # Maximum 1000 updates\n",
    "        break\n",
    "    for data in training_set:\n",
    "        x = data[0]\n",
    "        s = np.dot(x, w_app)\n",
    "        if data[1] * s <= 1:\n",
    "            # update w\n",
    "            w_app += eta * data[1] * s * x\n",
    "            stop = False\n",
    "            counter += 1\n",
    "            break\n",
    "    \n",
    "        \n",
    "print (\"final hypothesis function is\", w_app[1], \"x_1 + \", w_app[2], \"x_2 + \", w_app[0], \"= 0\")\n",
    "print(\"It takes \" + str(counter) + \" iterations to converge\")\n",
    "\n",
    "\n",
    "for data in training_set:\n",
    "    x1 = data[0][1]\n",
    "    x2 = data[0][2]\n",
    "    x  = [x1, x2]\n",
    "    y = data[1]\n",
    "    if y > 0:\n",
    "        plt.plot(x1, x2, marker='o', color='black', markersize=6)\n",
    "    elif y < 0:\n",
    "        plt.plot(x1, x2, marker='+', color='black', markersize=6)\n",
    "        \n",
    "x = np.linspace(-6, 6)\n",
    "y_target = -w_target[1]/w_target[2]*x - w_target[0]/w_target[2]\n",
    "y_predict = -w_app[1]/w_app[2]*x - w_app[0]/w_app[2]\n",
    "plt.plot(x, y_target, color = \"red\", label = 'target')\n",
    "plt.plot(x, y_predict, color = \"blue\", label = 'predict')\n",
    "plt.legend()\n",
    "\n",
    "# Test on test set\n",
    "count = 0\n",
    "for data in test_set:\n",
    "    x = data[0]\n",
    "    y = data[1]\n",
    "    y_pred = int(np.dot(x, w_app)/abs(np.dot(x, w_app)))\n",
    "    if y != y_pred:\n",
    "        count += 1\n",
    "print (\"In 10000 test test, there are \" + str(count) + \" points are incorrectly classified\")"
   ]
  },
  {
   "cell_type": "markdown",
   "metadata": {},
   "source": [
    "(d)"
   ]
  },
  {
   "cell_type": "code",
   "execution_count": 140,
   "metadata": {},
   "outputs": [
    {
     "name": "stdout",
     "output_type": "stream",
     "text": [
      "target function is -1.758025699894148 x_1 +  -1.268870040806961 x_2 +  2.3447210862620658 = 0\n",
      "final hypothesis function is -2.7882151318369357 x_1 +  5.122704034314118 x_2 +  -4.34753811396395 = 0\n",
      "It takes 1000 iterations to converge\n",
      "In 10000 test test, there are 5612 points are incorrectly classified\n"
     ]
    },
    {
     "data": {
      "image/png": "[encoded data removed]",
      "text/plain": [
       "<matplotlib.figure.Figure at 0x12a47b8d0>"
      ]
     },
     "metadata": {},
     "output_type": "display_data"
    }
   ],
   "source": [
    "# Generate the target function\n",
    "w1 = random.uniform(-5, 5)\n",
    "w2 = random.uniform(-5, 5)\n",
    "w0 = random.uniform(-5, 5)\n",
    "print (\"target function is\", w1, \"x_1 + \", w2, \"x_2 + \", w0, \"= 0\")\n",
    "w = np.asarray([w0, w1, w2])\n",
    "w_target = w\n",
    "\n",
    "# Generate the training data\n",
    "training_set = []\n",
    "for i in range(100):\n",
    "    x1 = random.uniform(-5, 5)\n",
    "    x2 = random.uniform(-5, 5)\n",
    "    x = np.asarray([1, x1, x2])\n",
    "    y = np.dot(w, x)/abs(np.dot(w, x))\n",
    "    if y > 0:\n",
    "        training_set.append([x, 1])\n",
    "    elif y < 0:\n",
    "        training_set.append([x, -1])\n",
    "    else:\n",
    "        training_set.append([x, 0])\n",
    "\n",
    "# Generate the test data\n",
    "test_set = []\n",
    "for i in range(10000):\n",
    "    x1 = random.uniform(-5, 5)\n",
    "    x2 = random.uniform(-5, 5)\n",
    "    x = np.asarray([1, x1, x2])\n",
    "    y = np.dot(w, x)/abs(np.dot(w, x))\n",
    "    if y > 0:\n",
    "        test_set.append([x, 1])\n",
    "    elif y < 0:\n",
    "        test_set.append([x, -1])\n",
    "    else:\n",
    "        test_set.append([x, 0])\n",
    "\n",
    "\n",
    "# Initialize w randomly\n",
    "w0 = random.uniform(-1, 1)\n",
    "w1 = random.uniform(-1, 1)\n",
    "w2 = random.uniform(-1, 1)\n",
    "w_app = np.array([w0, w1, w2])\n",
    "\n",
    "eta = 0.001\n",
    "# Start the revised perceptron Iteration\n",
    "stop = False\n",
    "counter = 0\n",
    "while not stop:\n",
    "    stop = True\n",
    "    if counter == 1000:   # Maximum 1000 updates\n",
    "        break\n",
    "    for data in training_set:\n",
    "        x = data[0]\n",
    "        s = np.dot(x, w_app)\n",
    "        if data[1] * s <= 1:\n",
    "            # update w\n",
    "            w_app += eta * data[1] * s * x\n",
    "            stop = False\n",
    "            counter += 1\n",
    "            break\n",
    "    \n",
    "        \n",
    "print (\"final hypothesis function is\", w_app[1], \"x_1 + \", w_app[2], \"x_2 + \", w_app[0], \"= 0\")\n",
    "print(\"It takes \" + str(counter) + \" iterations to converge\")\n",
    "\n",
    "\n",
    "for data in training_set:\n",
    "    x1 = data[0][1]\n",
    "    x2 = data[0][2]\n",
    "    x  = [x1, x2]\n",
    "    y = data[1]\n",
    "    if y > 0:\n",
    "        plt.plot(x1, x2, marker='o', color='black', markersize=6)\n",
    "    elif y < 0:\n",
    "        plt.plot(x1, x2, marker='+', color='black', markersize=6)\n",
    "        \n",
    "x = np.linspace(-6, 6)\n",
    "y_target = -w_target[1]/w_target[2]*x - w_target[0]/w_target[2]\n",
    "y_predict = -w_app[1]/w_app[2]*x - w_app[0]/w_app[2]\n",
    "plt.plot(x, y_target, color = \"red\", label = 'target')\n",
    "plt.plot(x, y_predict, color = \"blue\", label = 'predict')\n",
    "plt.legend()\n",
    "\n",
    "# Test on test set\n",
    "count = 0\n",
    "for data in test_set:\n",
    "    x = data[0]\n",
    "    y = data[1]\n",
    "    y_pred = int(np.dot(x, w_app)/abs(np.dot(x, w_app)))\n",
    "    if y != y_pred:\n",
    "        count += 1\n",
    "print (\"In 10000 test test, there are \" + str(count) + \" points are incorrectly classified\")"
   ]
  },
  {
   "cell_type": "markdown",
   "metadata": {},
   "source": [
    "(e) The first two did not show the hypothesis, because the weights grow too large and become infinity in numpy and cannot do further calculation. The reason that weights grow too much is that hyperparameter eta is too large. When eta is equal to 0.01, the final hypothesis function becomes better. When eta is too small, for example 0.001, it takes more iterations to converge, for example, in (d) the sign of the slope is still wrong, which indicates that it has not converged yet."
   ]
  },
  {
   "cell_type": "code",
   "execution_count": null,
   "metadata": {},
   "outputs": [],
   "source": []
  }
 ],
 "metadata": {
  "kernelspec": {
   "display_name": "Python 3",
   "language": "python",
   "name": "python3"
  },
  "language_info": {
   "codemirror_mode": {
    "name": "ipython",
    "version": 3
   },
   "file_extension": ".py",
   "mimetype": "text/x-python",
   "name": "python",
   "nbconvert_exporter": "python",
   "pygments_lexer": "ipython3",
   "version": "3.6.4"
  }
 },
 "nbformat": 4,
 "nbformat_minor": 2
}
